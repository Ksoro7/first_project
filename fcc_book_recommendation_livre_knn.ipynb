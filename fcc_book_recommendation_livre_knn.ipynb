{
  "cells": [
    {
      "cell_type": "markdown",
      "metadata": {
        "id": "view-in-github",
        "colab_type": "text"
      },
      "source": [
        "<a href=\"https://colab.research.google.com/github/Ksoro7/first_project/blob/master/fcc_book_recommendation_livre_knn.ipynb\" target=\"_parent\"><img src=\"https://colab.research.google.com/assets/colab-badge.svg\" alt=\"Open In Colab\"/></a>"
      ]
    },
    {
      "cell_type": "code",
      "execution_count": 1,
      "metadata": {
        "id": "Y1onB6kUvo4Z"
      },
      "outputs": [],
      "source": [
        "# import libraries (you may add additional imports but you may not have to)\n",
        "import numpy as np\n",
        "import pandas as pd\n",
        "from scipy.sparse import csr_matrix\n",
        "from sklearn.neighbors import NearestNeighbors\n",
        "import matplotlib.pyplot as plt"
      ]
    },
    {
      "cell_type": "code",
      "execution_count": 2,
      "metadata": {
        "id": "iAQGqqO_vo4d",
        "outputId": "5d9f72c2-e516-4af1-d1aa-82e0a727370c",
        "colab": {
          "base_uri": "https://localhost:8080/"
        }
      },
      "outputs": [
        {
          "output_type": "stream",
          "name": "stdout",
          "text": [
            "--2025-09-01 18:08:15--  https://cdn.freecodecamp.org/project-data/books/book-crossings.zip\n",
            "Resolving cdn.freecodecamp.org (cdn.freecodecamp.org)... 172.67.70.149, 104.26.3.33, 104.26.2.33, ...\n",
            "Connecting to cdn.freecodecamp.org (cdn.freecodecamp.org)|172.67.70.149|:443... connected.\n",
            "HTTP request sent, awaiting response... 200 OK\n",
            "Length: 26085508 (25M) [application/zip]\n",
            "Saving to: ‘book-crossings.zip’\n",
            "\n",
            "book-crossings.zip  100%[===================>]  24.88M   158MB/s    in 0.2s    \n",
            "\n",
            "2025-09-01 18:08:16 (158 MB/s) - ‘book-crossings.zip’ saved [26085508/26085508]\n",
            "\n",
            "Archive:  book-crossings.zip\n",
            "  inflating: BX-Book-Ratings.csv     \n",
            "  inflating: BX-Books.csv            \n",
            "  inflating: BX-Users.csv            \n"
          ]
        }
      ],
      "source": [
        "# get data files\n",
        "!wget https://cdn.freecodecamp.org/project-data/books/book-crossings.zip\n",
        "\n",
        "!unzip book-crossings.zip\n",
        "\n",
        "books_filename = 'BX-Books.csv'\n",
        "ratings_filename = 'BX-Book-Ratings.csv'"
      ]
    },
    {
      "cell_type": "code",
      "execution_count": 3,
      "metadata": {
        "id": "NClILWOiEd6Q"
      },
      "outputs": [],
      "source": [
        "# import csv data into dataframes\n",
        "df_books = pd.read_csv(\n",
        "    books_filename,\n",
        "    encoding = \"ISO-8859-1\",\n",
        "    sep=\";\",\n",
        "    header=0,\n",
        "    names=['isbn', 'title', 'author'],\n",
        "    usecols=['isbn', 'title', 'author'],\n",
        "    dtype={'isbn': 'str', 'title': 'str', 'author': 'str'})\n",
        "\n",
        "df_ratings = pd.read_csv(\n",
        "    ratings_filename,\n",
        "    encoding = \"ISO-8859-1\",\n",
        "    sep=\";\",\n",
        "    header=0,\n",
        "    names=['user', 'isbn', 'rating'],\n",
        "    usecols=['user', 'isbn', 'rating'],\n",
        "    dtype={'user': 'int32', 'isbn': 'str', 'rating': 'float32'})"
      ]
    },
    {
      "cell_type": "code",
      "source": [],
      "metadata": {
        "id": "rPURiYCBdOb5"
      },
      "execution_count": null,
      "outputs": []
    },
    {
      "cell_type": "code",
      "execution_count": 4,
      "metadata": {
        "id": "f5ZUd-L1SQz7"
      },
      "outputs": [],
      "source": [
        "# function to return recommended books - this will be tested\n",
        "def get_recommends(book = \"\"):\n",
        "\n",
        "\n",
        "  return recommended_books"
      ]
    },
    {
      "cell_type": "code",
      "execution_count": 5,
      "metadata": {
        "id": "xAcXjkCFCh0A",
        "outputId": "6ce96a5b-3ba9-4d55-e5d4-ca98171fd3bf",
        "colab": {
          "base_uri": "https://localhost:8080/"
        }
      },
      "outputs": [
        {
          "output_type": "stream",
          "name": "stdout",
          "text": [
            "Taille avant filtrage : 1031175\n",
            "Taille après filtrage : 66730\n",
            "Dimensions matrice (users x livres): (813, 914)\n",
            "['The Queen of the Damned (Vampire Chronicles (Paperback))', [['The Vampire Lestat (Vampire Chronicles, Book II)', 0.514513373374939], ['The Tale of the Body Thief (Vampire Chronicles (Paperback))', 0.529854416847229], ['Taltos: Lives of the Mayfair Witches', 0.7326513528823853], ['Interview with the Vampire', 0.7364973425865173], ['The Witching Hour (Lives of the Mayfair Witches)', 0.7371460795402527]]]\n"
          ]
        }
      ],
      "source": [
        "# add your code here - consider creating a new cell for each section of code\n",
        "# Fusion des notations et des livres\n",
        "df = pd.merge(df_ratings, df_books, on=\"isbn\")\n",
        "# Aperçu des données fusionnées\n",
        "df.head()\n",
        "# Filtrer les utilisateurs avec au moins 200 notations\n",
        "ratings_per_user = df.groupby('user').size()\n",
        "valid_users = ratings_per_user[ratings_per_user >= 200].index\n",
        "\n",
        "# Filtrer les livres avec au moins 100 notations\n",
        "ratings_per_book = df.groupby('title').size()\n",
        "valid_books = ratings_per_book[ratings_per_book >= 100].index\n",
        "\n",
        "# Appliquer les filtres\n",
        "df_filtered = df[\n",
        "    (df['user'].isin(valid_users)) &\n",
        "    (df['title'].isin(valid_books))\n",
        "]\n",
        "\n",
        "print(\"Taille avant filtrage :\", len(df))\n",
        "print(\"Taille après filtrage :\", len(df_filtered))\n",
        "\n",
        "# Création de la matrice user x book\n",
        "book_matrix = df_filtered.pivot_table(\n",
        "    index='user',\n",
        "    columns='title',\n",
        "    values='rating'\n",
        ").fillna(0)\n",
        "\n",
        "# Conversion en matrice creuse\n",
        "book_sparse = csr_matrix(book_matrix.values)\n",
        "\n",
        "print(\"Dimensions matrice (users x livres):\", book_matrix.shape)\n",
        "\n",
        "# Entraînement du modèle KNN basé sur la similarité cosinus\n",
        "model = NearestNeighbors(metric='cosine', algorithm='brute')\n",
        "model.fit(book_sparse.T)  # transpose: comparaison entre livres\n",
        "\n",
        "def get_recommends(book_title):\n",
        "    if book_title not in book_matrix.columns:\n",
        "        return f\"'{book_title}' n'existe pas dans la base filtrée.\"\n",
        "\n",
        "    # Trouver les 6 plus proches voisins (le premier est le livre lui-même)\n",
        "    distances, indices = model.kneighbors(\n",
        "        book_matrix.T.loc[[book_title]], n_neighbors=6\n",
        "    )\n",
        "\n",
        "    # Construire la liste des recommandations\n",
        "    recommendations = []\n",
        "    for i in range(1, 6):  # on ignore le premier car c'est le livre lui-même\n",
        "        title = book_matrix.T.index[indices[0][i]]\n",
        "        distance = distances[0][i]\n",
        "        recommendations.append([title, float(distance)])\n",
        "\n",
        "    return [book_title, recommendations]\n",
        "print(get_recommends(\"The Queen of the Damned (Vampire Chronicles (Paperback))\"))\n"
      ]
    },
    {
      "cell_type": "code",
      "execution_count": 6,
      "metadata": {
        "id": "jd2SLCh8oxMh",
        "outputId": "d78dccc4-8dd5-4685-ad79-67657ab37f9e",
        "colab": {
          "base_uri": "https://localhost:8080/"
        }
      },
      "outputs": [
        {
          "output_type": "stream",
          "name": "stdout",
          "text": [
            "[\"Where the Heart Is (Oprah's Book Club (Paperback))\", [['Blue Diary', 0.7145698070526123], ['The Lovely Bones: A Novel', 0.715856671333313], ['I Know This Much Is True', 0.7496687769889832], ['Icy Sparks', 0.7646523118019104], ['The Weight of Water', 0.7678344249725342]]]\n",
            "You haven't passed yet. Keep trying!\n"
          ]
        }
      ],
      "source": [
        "books = get_recommends(\"Where the Heart Is (Oprah's Book Club (Paperback))\")\n",
        "print(books)\n",
        "\n",
        "def test_book_recommendation():\n",
        "  test_pass = True\n",
        "  recommends = get_recommends(\"Where the Heart Is (Oprah's Book Club (Paperback))\")\n",
        "  if recommends[0] != \"Where the Heart Is (Oprah's Book Club (Paperback))\":\n",
        "    test_pass = False\n",
        "  recommended_books = [\"I'll Be Seeing You\", 'The Weight of Water', 'The Surgeon', 'I Know This Much Is True']\n",
        "  recommended_books_dist = [0.8, 0.77, 0.77, 0.77]\n",
        "  for i in range(2):\n",
        "    if recommends[1][i][0] not in recommended_books:\n",
        "      test_pass = False\n",
        "    if abs(recommends[1][i][1] - recommended_books_dist[i]) >= 0.05:\n",
        "      test_pass = False\n",
        "  if test_pass:\n",
        "    print(\"You passed the challenge! 🎉🎉🎉🎉🎉\")\n",
        "  else:\n",
        "    print(\"You haven't passed yet. Keep trying!\")\n",
        "\n",
        "test_book_recommendation()"
      ]
    }
  ],
  "metadata": {
    "colab": {
      "name": "fcc_book_recommendation_knn.ipynb",
      "provenance": [],
      "include_colab_link": true
    },
    "kernelspec": {
      "display_name": "Python 3",
      "language": "python",
      "name": "python3"
    },
    "language_info": {
      "codemirror_mode": {
        "name": "ipython",
        "version": 3
      },
      "file_extension": ".py",
      "mimetype": "text/x-python",
      "name": "python",
      "nbconvert_exporter": "python",
      "pygments_lexer": "ipython3",
      "version": "3.6.5"
    }
  },
  "nbformat": 4,
  "nbformat_minor": 0
}